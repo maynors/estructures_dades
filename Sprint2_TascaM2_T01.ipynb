{
 "cells": [
  {
   "cell_type": "markdown",
   "id": "b862cb35-3cd7-41c0-aa67-8dff6b5ac36f",
   "metadata": {
    "tags": []
   },
   "source": [
    "# Exercici 1\n",
    "Crea una llista que agrupi els mesos de l’any en trimestres (1T: gener, febrer i març; 2T: abril, maig, juny...), és a dir, una llista amb 4 llistes dins."
   ]
  },
  {
   "cell_type": "code",
   "execution_count": 1,
   "id": "2fcc6832-6cb7-4459-985f-18ba79715e4c",
   "metadata": {
    "tags": []
   },
   "outputs": [],
   "source": [
    "lista_1T=['enero','febrero','marzo']\n",
    "lista_2T=list(('abril','mayo','junio'))\n",
    "lista_3T=list(('julio','agosto','septiembre'))\n",
    "lista_4T=['octubre','noviembre','diciembre']\n",
    "lista=[lista_1T,lista_2T,lista_3T,lista_4T]"
   ]
  },
  {
   "cell_type": "code",
   "execution_count": 2,
   "id": "46e1a436-d91e-4cb7-8102-f7c40fa28f1c",
   "metadata": {
    "tags": []
   },
   "outputs": [
    {
     "name": "stdout",
     "output_type": "stream",
     "text": [
      "[['enero', 'febrero', 'marzo'], ['abril', 'mayo', 'junio'], ['julio', 'agosto', 'septiembre'], ['octubre', 'noviembre', 'diciembre']]\n"
     ]
    }
   ],
   "source": [
    "# Lista con los 4 trimestres\n",
    "print(lista)"
   ]
  },
  {
   "cell_type": "markdown",
   "id": "0816bd3a-7815-4540-9fef-b4e3a64babb7",
   "metadata": {
    "tags": []
   },
   "source": [
    "# Exercici 2\n",
    "Crea un codi que et permeti accedir a:\n",
    "\n",
    "* El segon mes del primer trimestre.\n",
    "* Els mesos del primer trimestre.\n",
    "* Setembre i octubre.\n"
   ]
  },
  {
   "cell_type": "code",
   "execution_count": 3,
   "id": "469ba75c-90b5-4e6a-ab3d-78e96b88bc05",
   "metadata": {
    "tags": []
   },
   "outputs": [
    {
     "data": {
      "text/plain": [
       "'febrero'"
      ]
     },
     "execution_count": 3,
     "metadata": {},
     "output_type": "execute_result"
    }
   ],
   "source": [
    "#El segon mes del primer trimestre.\n",
    "lista[0][1]"
   ]
  },
  {
   "cell_type": "code",
   "execution_count": 4,
   "id": "ab24a11d-fb3f-4755-9c18-feb240bfa68f",
   "metadata": {
    "tags": []
   },
   "outputs": [
    {
     "data": {
      "text/plain": [
       "['enero', 'febrero', 'marzo']"
      ]
     },
     "execution_count": 4,
     "metadata": {},
     "output_type": "execute_result"
    }
   ],
   "source": [
    "#Els mesos del primer trimestre.\n",
    "lista[0]"
   ]
  },
  {
   "cell_type": "code",
   "execution_count": 5,
   "id": "6242e71a-4a25-42dd-ab8e-77dd81ec0b39",
   "metadata": {
    "tags": []
   },
   "outputs": [
    {
     "name": "stdout",
     "output_type": "stream",
     "text": [
      "enero\n",
      "febrero\n",
      "marzo\n"
     ]
    }
   ],
   "source": [
    "#Otra forma\n",
    "for i in range(0,3) :\n",
    "    print(lista[0][i])"
   ]
  },
  {
   "cell_type": "code",
   "execution_count": 6,
   "id": "2e530509-a623-4140-9383-8eb8a75a8532",
   "metadata": {
    "tags": []
   },
   "outputs": [
    {
     "name": "stdout",
     "output_type": "stream",
     "text": [
      "['septiembre', 'octubre']\n"
     ]
    }
   ],
   "source": [
    "# mesos de Setembre i octubre.\n",
    "sept_octu=[]\n",
    "sept_octu.append(lista[2][2])\n",
    "sept_octu.append(lista[3][0])\n",
    "print(sept_octu)"
   ]
  },
  {
   "cell_type": "markdown",
   "id": "7725f01d-ed4c-427b-ae35-b4cb70b9d251",
   "metadata": {},
   "source": [
    "# Exercici 3\n",
    "Crea una llista amb nombres desordenats i respon a les següents preguntes:\n",
    "\n",
    "* Quants números hi ha?\n",
    "* Quantes vegades apareix el número 3.\n",
    "* Quantes vegades apareixen els nombres 3 i 4?\n",
    "* Quin és el número més gran?\n",
    "* Quins són els 3 números més petits?\n",
    "* Quin és el rang d’aquesta llista?"
   ]
  },
  {
   "cell_type": "code",
   "execution_count": 7,
   "id": "54b652f1-60a6-4f1e-9902-821f751d5a4f",
   "metadata": {
    "tags": []
   },
   "outputs": [],
   "source": [
    "# Utilizaremos la libreria random para generar numeros aleatorios\n",
    "import random as rd"
   ]
  },
  {
   "cell_type": "code",
   "execution_count": 8,
   "id": "2b85261e-1843-416f-84d5-082be11cb78e",
   "metadata": {
    "tags": []
   },
   "outputs": [
    {
     "name": "stdout",
     "output_type": "stream",
     "text": [
      "[4, 4, 10, 3, 10, 7, 3]\n"
     ]
    }
   ],
   "source": [
    "# Se crea la lista con los numeros aleatorios\n",
    "list_random=[]\n",
    "for i in range(rd.randint(5,20)):\n",
    "    list_random.append(rd.randint(1,10))\n",
    "print(list_random)"
   ]
  },
  {
   "cell_type": "code",
   "execution_count": 9,
   "id": "d49e5a95-8c23-4edb-ac01-3da577bc6792",
   "metadata": {
    "tags": []
   },
   "outputs": [
    {
     "name": "stdout",
     "output_type": "stream",
     "text": [
      "Hay 7 números en la lista\n"
     ]
    }
   ],
   "source": [
    "# Quants números hi ha?\n",
    "print('Hay '+str(len(list_random))+' números en la lista')"
   ]
  },
  {
   "cell_type": "code",
   "execution_count": 10,
   "id": "ea2ff6e4-f8a0-4c0e-8253-f6dfbd1953f0",
   "metadata": {
    "tags": []
   },
   "outputs": [
    {
     "name": "stdout",
     "output_type": "stream",
     "text": [
      "El numero 3 aparece: 2 veces en la lista\n"
     ]
    }
   ],
   "source": [
    "# Quantes vegades apareix el número 3.\n",
    "conteo_num_3=0\n",
    "for i2 in list_random: \n",
    "    if i2==3:\n",
    "        conteo_num_3=conteo_num_3+1\n",
    "print('El numero 3 aparece: '+str(conteo_num_3)+' veces en la lista')  "
   ]
  },
  {
   "cell_type": "code",
   "execution_count": 11,
   "id": "1c9d11b3-c17f-453d-a20c-cd6338b0f5e6",
   "metadata": {
    "tags": []
   },
   "outputs": [
    {
     "name": "stdout",
     "output_type": "stream",
     "text": [
      "El numero 3 aparece: 2 veces en la lista\n",
      "El numero 4 aparece: 2 veces en la lista\n"
     ]
    }
   ],
   "source": [
    "conteo_num_3=0\n",
    "conteo_num_4=0\n",
    "for i2 in list_random: \n",
    "    if i2==3:\n",
    "        conteo_num_3=conteo_num_3+1\n",
    "    if i2==4:\n",
    "        conteo_num_4=conteo_num_4+1\n",
    "print('El numero 3 aparece: '+str(conteo_num_3)+' veces en la lista')  \n",
    "print('El numero 4 aparece: '+str(conteo_num_4)+' veces en la lista')  "
   ]
  },
  {
   "cell_type": "code",
   "execution_count": 12,
   "id": "e60490fd-1e09-427f-9aad-954782da00a5",
   "metadata": {
    "tags": []
   },
   "outputs": [
    {
     "name": "stdout",
     "output_type": "stream",
     "text": [
      "El numero más grande de la lista es: 10\n"
     ]
    }
   ],
   "source": [
    "# Quin és el número més gran?\n",
    "print('El numero más grande de la lista es: '+str(max(list_random))) "
   ]
  },
  {
   "cell_type": "code",
   "execution_count": 22,
   "id": "dc007da2-444d-4e5d-91f8-71ad603eb981",
   "metadata": {
    "tags": []
   },
   "outputs": [
    {
     "name": "stdout",
     "output_type": "stream",
     "text": [
      "Los 3 numeros más pequeños de la lista son: \n",
      "3\n",
      "3\n",
      "4\n"
     ]
    }
   ],
   "source": [
    "#Quins són els 3 números més petits?\n",
    "lista_ordenada=[]\n",
    "lista_ordenada=sorted(list_random)\n",
    "i2=0\n",
    "print('Los 3 numeros más pequeños de la lista son: ')\n",
    "while (i2<3):\n",
    "    print (lista_ordenada[i2])\n",
    "    i2+=1\n"
   ]
  },
  {
   "cell_type": "code",
   "execution_count": 14,
   "id": "8bc7538c-2098-4fc5-adea-6f0c50e0bae4",
   "metadata": {
    "tags": []
   },
   "outputs": [
    {
     "name": "stdout",
     "output_type": "stream",
     "text": [
      "El rango de la lista es: 7\n"
     ]
    }
   ],
   "source": [
    "#Quin és el rang d’aquesta llista?\n",
    "rango=max(lista_ordenada)-min(lista_ordenada)\n",
    "print('El rango de la lista es: '+str(rango))"
   ]
  },
  {
   "cell_type": "markdown",
   "id": "103d9c69-6888-4877-a569-7c179cbd835c",
   "metadata": {},
   "source": [
    "#  Exercici 4\n",
    "Crea un diccionari de la següent forma i respon a les preguntes:"
   ]
  },
  {
   "cell_type": "code",
   "execution_count": 15,
   "id": "7867bcfe-4cf7-4b0a-9a0f-e57b3aa309e8",
   "metadata": {
    "tags": []
   },
   "outputs": [],
   "source": [
    "compra = { \"Pomes\" : {\"Qty\": 5, \"€\": 0.42}, \"Peres\" : {\"Qty\": 3, \"€\": 0.66} }"
   ]
  },
  {
   "cell_type": "code",
   "execution_count": 16,
   "id": "a4aa3c73-5da0-41d1-b0f9-3e85f1c1a27c",
   "metadata": {
    "tags": []
   },
   "outputs": [
    {
     "name": "stdout",
     "output_type": "stream",
     "text": [
      "{'Pomes': {'Qty': 5, '€': 0.42}, 'Peres': {'Qty': 3, '€': 0.66}}\n"
     ]
    }
   ],
   "source": [
    "print(compra)"
   ]
  },
  {
   "cell_type": "code",
   "execution_count": 17,
   "id": "b5339c79-05ab-4045-8ea2-e6b4da99eb88",
   "metadata": {
    "tags": []
   },
   "outputs": [],
   "source": [
    "#Afegeix alguna fruita més\n",
    "compra['cireras']={\"Qty\": 4, \"€\": 0.66}"
   ]
  },
  {
   "cell_type": "code",
   "execution_count": 18,
   "id": "94472c60-ccc7-4b38-8b85-cf57d70b1e64",
   "metadata": {
    "tags": []
   },
   "outputs": [
    {
     "name": "stdout",
     "output_type": "stream",
     "text": [
      "{'Pomes': {'Qty': 5, '€': 0.42}, 'Peres': {'Qty': 3, '€': 0.66}, 'cireras': {'Qty': 4, '€': 0.66}}\n"
     ]
    }
   ],
   "source": [
    "print(compra)"
   ]
  },
  {
   "cell_type": "code",
   "execution_count": 19,
   "id": "54ccc448-7cbc-4acc-82a9-6aeec20510eb",
   "metadata": {
    "tags": []
   },
   "outputs": [
    {
     "data": {
      "text/plain": [
       "1.98"
      ]
     },
     "execution_count": 19,
     "metadata": {},
     "output_type": "execute_result"
    }
   ],
   "source": [
    "#Quant han costat les peres en total?\n",
    "Coste_peres = compra['Peres']['Qty']*compra['Peres']['€']\n",
    "Coste_peres"
   ]
  },
  {
   "cell_type": "code",
   "execution_count": 20,
   "id": "55298c12-ffa5-464d-89e6-ed72bfe26a6e",
   "metadata": {
    "tags": []
   },
   "outputs": [
    {
     "name": "stdout",
     "output_type": "stream",
     "text": [
      "El total de frutas compradas fue de: 12\n"
     ]
    }
   ],
   "source": [
    "# Quantes fruites hem comprat en total?\n",
    "qty_total=0\n",
    "for frutas in compra:\n",
    "    if ('Qty' in compra[frutas]): #En caso el dictionario no tenga el 'Qty'\n",
    "        qty_total = qty_total + compra[frutas]['Qty']\n",
    "print ('El total de frutas compradas fue de: '+str(qty_total))"
   ]
  },
  {
   "cell_type": "code",
   "execution_count": 21,
   "id": "165cd144-ea28-4116-885c-60d6d575e1a2",
   "metadata": {
    "tags": []
   },
   "outputs": [
    {
     "name": "stdout",
     "output_type": "stream",
     "text": [
      "La fruta mas cara es:  ['Peres', 'cireras']\n",
      "Con un coste unitario de €  0.66\n"
     ]
    }
   ],
   "source": [
    "# Quina és la fruita més cara?\n",
    "\n",
    "#Creo un diccionario nombreFruta-€\n",
    "dict1={}\n",
    "for frutas in compra:\n",
    "    if ('€' in compra[frutas]):\n",
    "        dict1[frutas]=compra[frutas]['€']\n",
    "        \n",
    "#Encuentro el valor máximo\n",
    "max_value = max(dict1, key=dict1.get)\n",
    "max_value = max(dict1.values())\n",
    "\n",
    "#En caso el valor máximo tenga más de una llave\n",
    "frutas_caras=[]\n",
    "for frutas in dict1:\n",
    "    if dict1[frutas]==max_value:\n",
    "        frutas_caras.append(frutas)\n",
    "\n",
    "print(\"La fruta mas cara es: \", frutas_caras)\n",
    "print(\"Con un coste unitario de € \",  max_value)"
   ]
  },
  {
   "cell_type": "code",
   "execution_count": null,
   "id": "909c33e4-ccd4-4234-a767-e0441ca65016",
   "metadata": {},
   "outputs": [],
   "source": []
  }
 ],
 "metadata": {
  "kernelspec": {
   "display_name": "Python 3 (ipykernel)",
   "language": "python",
   "name": "python3"
  },
  "language_info": {
   "codemirror_mode": {
    "name": "ipython",
    "version": 3
   },
   "file_extension": ".py",
   "mimetype": "text/x-python",
   "name": "python",
   "nbconvert_exporter": "python",
   "pygments_lexer": "ipython3",
   "version": "3.11.1"
  }
 },
 "nbformat": 4,
 "nbformat_minor": 5
}
